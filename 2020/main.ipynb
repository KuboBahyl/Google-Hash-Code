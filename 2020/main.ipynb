{
 "cells": [
  {
   "cell_type": "code",
   "execution_count": 236,
   "metadata": {},
   "outputs": [],
   "source": [
    "import matplotlib.pyplot as plt\n",
    "%matplotlib inline\n",
    "\n",
    "from tqdm import tqdm"
   ]
  },
  {
   "cell_type": "code",
   "execution_count": 232,
   "metadata": {},
   "outputs": [],
   "source": [
    "def parse_input(path):\n",
    "    with open(path, 'r') as f:\n",
    "        lines = f.readlines()\n",
    "        B, L, D = lines[0].strip().split(' ')\n",
    "        book_scores = lines[1].strip().split(' ')\n",
    "        book_scores = list(map(lambda x: int(x), book_scores))\n",
    "        libraries = []\n",
    "        for i in range(int(L)):\n",
    "            N, T, M = lines[2+i*2].strip().split(' ')\n",
    "            N, T, M = list(map(lambda x: int(x), [N,T,M]))\n",
    "            books = lines[2+i*2+1].strip().split(' ')\n",
    "            books = list(map(lambda x: int(x), books))\n",
    "            score_total = 0\n",
    "            share_total = 0\n",
    "            for b in books:\n",
    "                score_total += book_scores[b]\n",
    "                \n",
    "            libraries.append({'id': i, 'N':N,'T':T,'M':M, \n",
    "                              'books':books,\n",
    "                              'score_total': score_total,\n",
    "                              'score_del_t': score_total / T,\n",
    "                              'score_del_book': score_total / N})\n",
    "                \n",
    "    return B,L,D,book_scores,libraries"
   ]
  },
  {
   "cell_type": "code",
   "execution_count": 170,
   "metadata": {},
   "outputs": [
    {
     "name": "stdout",
     "output_type": "stream",
     "text": [
      "6 2 7\n",
      "[1, 2, 3, 6, 5, 4]\n",
      "[{'id': 0, 'N': 5, 'T': 2, 'M': 2, 'books': [0, 1, 2, 3, 4], 'score_total': 17, 'mean_score': 3.4}, {'id': 1, 'N': 4, 'T': 3, 'M': 1, 'books': [0, 2, 3, 5], 'score_total': 14, 'mean_score': 3.5}]\n"
     ]
    }
   ],
   "source": [
    "B, L, D, scores, libs = parse_input('data/a_example.txt')\n",
    "print(B,L,D)\n",
    "print(scores)\n",
    "print(libs)"
   ]
  },
  {
   "cell_type": "markdown",
   "metadata": {},
   "source": [
    "# Data analyses"
   ]
  },
  {
   "cell_type": "code",
   "execution_count": 259,
   "metadata": {},
   "outputs": [
    {
     "name": "stdout",
     "output_type": "stream",
     "text": [
      "100000 1000 200\n"
     ]
    }
   ],
   "source": [
    "files = {\n",
    "    'a': 'a_example',\n",
    "    'b': 'b_read_on',\n",
    "    'c': 'c_incunabula',\n",
    "    'd': 'd_tough_choices',\n",
    "    'e': 'e_so_many_books',\n",
    "    'f': 'f_libraries_of_the_world'\n",
    "}\n",
    "\n",
    "dataset = 'e'\n",
    "B, L, D, scores, libs = parse_input('data/' + files[dataset] + '.txt')\n",
    "print(B,L,D)"
   ]
  },
  {
   "cell_type": "code",
   "execution_count": 235,
   "metadata": {},
   "outputs": [
    {
     "data": {
      "text/plain": [
       "dict_keys(['id', 'N', 'T', 'M', 'books', 'score_total', 'score_del_t'])"
      ]
     },
     "execution_count": 235,
     "metadata": {},
     "output_type": "execute_result"
    }
   ],
   "source": [
    "libs[0].keys()"
   ]
  },
  {
   "cell_type": "code",
   "execution_count": 260,
   "metadata": {},
   "outputs": [
    {
     "name": "stdout",
     "output_type": "stream",
     "text": [
      "Scores:\n"
     ]
    },
    {
     "data": {
      "image/png": "[encoded data removed]",
      "text/plain": [
       "<Figure size 1080x216 with 1 Axes>"
      ]
     },
     "metadata": {
      "needs_background": "light"
     },
     "output_type": "display_data"
    }
   ],
   "source": [
    "# Scores\n",
    "print('Scores:')\n",
    "plt.figure(figsize=(15,3))\n",
    "plt.hist(scores)\n",
    "plt.show()"
   ]
  },
  {
   "cell_type": "code",
   "execution_count": 261,
   "metadata": {},
   "outputs": [
    {
     "name": "stdout",
     "output_type": "stream",
     "text": [
      "Num of books:\n"
     ]
    },
    {
     "data": {
      "image/png": "[encoded data removed]",
      "text/plain": [
       "<Figure size 1080x216 with 1 Axes>"
      ]
     },
     "metadata": {
      "needs_background": "light"
     },
     "output_type": "display_data"
    },
    {
     "name": "stdout",
     "output_type": "stream",
     "text": [
      "Times: 5432\n"
     ]
    },
    {
     "data": {
      "image/png": "[encoded data removed]",
      "text/plain": [
       "<Figure size 1080x216 with 1 Axes>"
      ]
     },
     "metadata": {
      "needs_background": "light"
     },
     "output_type": "display_data"
    },
    {
     "name": "stdout",
     "output_type": "stream",
     "text": [
      "Freqs:\n"
     ]
    },
    {
     "data": {
      "image/png": "[encoded data removed]",
      "text/plain": [
       "<Figure size 1080x216 with 1 Axes>"
      ]
     },
     "metadata": {
      "needs_background": "light"
     },
     "output_type": "display_data"
    }
   ],
   "source": [
    "# Libraries\n",
    "volumes = []\n",
    "times = []\n",
    "freqs = []\n",
    "for l in libs:\n",
    "    volumes.append(l['N'])\n",
    "    times.append(l['T'])\n",
    "    freqs.append(l['M'])\n",
    "\n",
    "print('Num of books:')\n",
    "plt.figure(figsize=(15,3))\n",
    "plt.hist(volumes)\n",
    "plt.show()\n",
    "print('Times:', sum(times))\n",
    "plt.figure(figsize=(15,3))\n",
    "plt.hist(times)\n",
    "plt.show()\n",
    "print('Freqs:')\n",
    "plt.figure(figsize=(15,3))\n",
    "plt.hist(freqs)\n",
    "plt.show()"
   ]
  },
  {
   "cell_type": "code",
   "execution_count": 122,
   "metadata": {},
   "outputs": [],
   "source": [
    "def get_book_score(book_id: int):\n",
    "    return scores[book_id]\n",
    "\n",
    "def sort_books_by_score(books: list):\n",
    "    return sorted(books, key=(lambda b: get_book_score(b)), reverse=True)"
   ]
  },
  {
   "cell_type": "markdown",
   "metadata": {},
   "source": [
    "# Strategies"
   ]
  },
  {
   "cell_type": "code",
   "execution_count": 292,
   "metadata": {},
   "outputs": [
    {
     "name": "stdout",
     "output_type": "stream",
     "text": [
      "done\n"
     ]
    }
   ],
   "source": [
    "libs_temp = []\n",
    "used_books = set()\n",
    "\n",
    "with open(dataset + '_out.txt', 'w') as f:\n",
    "    if dataset == 'b':\n",
    "        f.write(str(L) + '\\n')\n",
    "        libs_temp = sorted(libs, key=(lambda l: l['T']))\n",
    "        for lib in libs_temp:\n",
    "            books = set(lib['books'])\n",
    "            books = books - used_books\n",
    "            used_books = used_books.union(books)\n",
    "            \n",
    "            books = sorted(list(books), key=(lambda b: get_book_score(b)), reverse=True)\n",
    "            books = list(map(lambda b: str(b), books))\n",
    "            f.write(str(lib['id']) + ' ' + str(len(books)) + '\\n')\n",
    "            f.write(' '.join(books) + '\\n')\n",
    "            \n",
    "    elif dataset == 'c':\n",
    "        f.write(str(L) + '\\n')\n",
    "        libs_temp = sorted(libs, key=(lambda l: l['T']))   \n",
    "        libs_temp[:2000] = sorted(libs_temp[:2000], key=(lambda l: l['score_total']), reverse=True)\n",
    "        i = 0\n",
    "        for lib in libs_temp:\n",
    "            books = set(lib['books'])\n",
    "#             books = books - used_books\n",
    "#             used_books = used_books.union(books)\n",
    "            \n",
    "            books = list(books)\n",
    "            if books == []:\n",
    "                continue\n",
    "            \n",
    "            books = sorted(books, key=(lambda b: get_book_score(b)), reverse=True)\n",
    "            books = list(map(lambda b: str(b), books))\n",
    "            \n",
    "            f.write(str(lib['id']) + ' ' + str(len(books)) + '\\n')\n",
    "            f.write(' '.join(books) + '\\n')\n",
    "            i+=1\n",
    "            \n",
    "        print(i)\n",
    "        \n",
    "    elif dataset == 'd':\n",
    "        libs_temp = sorted(libs, key=(lambda l: l['N']), reverse=True)\n",
    "        f.write(str(L) + '\\n')\n",
    "        \n",
    "        for lib in libs_temp:\n",
    "            books = lib['books']\n",
    "            books = sorted(books, key=(lambda b: get_book_score(b)), reverse=True)\n",
    "            books = list(map(lambda b: str(b), books))\n",
    "            f.write(str(lib['id']) + ' ' + str(len(books)) + '\\n')\n",
    "            f.write(' '.join(books) + '\\n')\n",
    "            \n",
    "    elif dataset == 'e':\n",
    "        libs_temp = [l for l in libs if l['M'] > 1]\n",
    "        libs_temp = sorted(libs_temp, key=(lambda l: l['score_del_t']), reverse=True)\n",
    "        f.write(str(len(libs_temp)) + '\\n')\n",
    "        \n",
    "        for lib in libs_temp:\n",
    "            books = lib['books']\n",
    "            books = sorted(books, key=(lambda b: get_book_score(b)), reverse=True)\n",
    "            books = list(map(lambda b: str(b), books))\n",
    "            f.write(str(lib['id']) + ' ' + str(len(books)) + '\\n')\n",
    "            f.write(' '.join(books) + '\\n')\n",
    "        \n",
    "print('done')"
   ]
  },
  {
   "cell_type": "code",
   "execution_count": 293,
   "metadata": {},
   "outputs": [
    {
     "data": {
      "text/plain": [
       "158535"
      ]
     },
     "execution_count": 293,
     "metadata": {},
     "output_type": "execute_result"
    }
   ],
   "source": [
    "total = 0\n",
    "for l in libs_sorted[:200]:\n",
    "    total += l['score_total']\n",
    "    \n",
    "total"
   ]
  },
  {
   "cell_type": "code",
   "execution_count": 245,
   "metadata": {},
   "outputs": [
    {
     "data": {
      "text/plain": [
       "99998"
      ]
     },
     "execution_count": 245,
     "metadata": {},
     "output_type": "execute_result"
    }
   ],
   "source": [
    "libs_temp = sorted(libs, key=(lambda l: l['M']), reverse=True)\n",
    "libs_temp[0]['M']"
   ]
  },
  {
   "cell_type": "code",
   "execution_count": 206,
   "metadata": {},
   "outputs": [
    {
     "data": {
      "text/plain": [
       "dict_keys(['id', 'N', 'T', 'M', 'books', 'score_total', 'score_del_t'])"
      ]
     },
     "execution_count": 206,
     "metadata": {},
     "output_type": "execute_result"
    }
   ],
   "source": [
    "libs[0].keys()"
   ]
  },
  {
   "cell_type": "code",
   "execution_count": 177,
   "metadata": {},
   "outputs": [
    {
     "name": "stdout",
     "output_type": "stream",
     "text": [
      "2\n",
      "2\n",
      "2\n",
      "2\n",
      "2\n",
      "2\n",
      "2\n",
      "2\n",
      "2\n",
      "2\n"
     ]
    }
   ],
   "source": [
    "for x in sorted(libs, key=(lambda x: x['M']), reverse=True)[:10]:\n",
    "    print(x['M'])"
   ]
  },
  {
   "cell_type": "code",
   "execution_count": 196,
   "metadata": {},
   "outputs": [
    {
     "data": {
      "text/plain": [
       "100000"
      ]
     },
     "execution_count": 196,
     "metadata": {},
     "output_type": "execute_result"
    }
   ],
   "source": [
    "len(used_books)"
   ]
  },
  {
   "cell_type": "code",
   "execution_count": 198,
   "metadata": {},
   "outputs": [
    {
     "data": {
      "text/plain": [
       "'100000'"
      ]
     },
     "execution_count": 198,
     "metadata": {},
     "output_type": "execute_result"
    }
   ],
   "source": [
    "B"
   ]
  },
  {
   "cell_type": "code",
   "execution_count": null,
   "metadata": {},
   "outputs": [],
   "source": []
  }
 ],
 "metadata": {
  "kernelspec": {
   "display_name": "Python 3",
   "language": "python",
   "name": "python3"
  },
  "language_info": {
   "codemirror_mode": {
    "name": "ipython",
    "version": 3
   },
   "file_extension": ".py",
   "mimetype": "text/x-python",
   "name": "python",
   "nbconvert_exporter": "python",
   "pygments_lexer": "ipython3",
   "version": "3.6.5"
  }
 },
 "nbformat": 4,
 "nbformat_minor": 4
}
